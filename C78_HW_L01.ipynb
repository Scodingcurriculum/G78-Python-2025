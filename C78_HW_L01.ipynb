{
  "nbformat": 4,
  "nbformat_minor": 0,
  "metadata": {
    "colab": {
      "provenance": [],
      "include_colab_link": true
    },
    "kernelspec": {
      "name": "python3",
      "display_name": "Python 3"
    },
    "language_info": {
      "name": "python"
    }
  },
  "cells": [
    {
      "cell_type": "markdown",
      "metadata": {
        "id": "view-in-github",
        "colab_type": "text"
      },
      "source": [
        "<a href=\"https://colab.research.google.com/github/Scodingcurriculum/G78-Python-2025/blob/main/C78_HW_L01.ipynb\" target=\"_parent\"><img src=\"https://colab.research.google.com/assets/colab-badge.svg\" alt=\"Open In Colab\"/></a>"
      ]
    },
    {
      "cell_type": "code",
      "execution_count": null,
      "metadata": {
        "id": "1NASSIFs4r4m"
      },
      "outputs": [],
      "source": [
        "# Lesson 1 Homework: Science Pledge Banner\n",
        "# Goal: Print a pledge line with a decorative banner using string multiplication\n",
        "# Concepts: print(), string concatenation, escape characters, string multiplication\n",
        "\n",
        "banner_edge = \"*\" * 3  # \"***\"\n",
        "pledge_text = \" I will explore the universe with coding! \"\n",
        "\n",
        "# Create one complete line by concatenating parts\n",
        "pledge_line = banner_edge + pledge_text + banner_edge\n",
        "\n",
        "# Print with a blank line before and after to make it look neat\n",
        "print(\"\\n\" + pledge_line + \"\\n\")\n",
        "\n",
        "# Extra: Show how \\n and \\t could be used for formatting\n",
        "print(\"Mission Note:\\n\\tKeep learning, keep exploring!\")\n"
      ]
    }
  ]
}