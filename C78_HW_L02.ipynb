{
  "nbformat": 4,
  "nbformat_minor": 0,
  "metadata": {
    "colab": {
      "provenance": [],
      "include_colab_link": true
    },
    "kernelspec": {
      "name": "python3",
      "display_name": "Python 3"
    },
    "language_info": {
      "name": "python"
    }
  },
  "cells": [
    {
      "cell_type": "markdown",
      "metadata": {
        "id": "view-in-github",
        "colab_type": "text"
      },
      "source": [
        "<a href=\"https://colab.research.google.com/github/Scodingcurriculum/G78-Python-2025/blob/main/C78_HW_L02.ipynb\" target=\"_parent\"><img src=\"https://colab.research.google.com/assets/colab-badge.svg\" alt=\"Open In Colab\"/></a>"
      ]
    },
    {
      "cell_type": "code",
      "execution_count": null,
      "metadata": {
        "id": "vv-HYekL49D6"
      },
      "outputs": [],
      "source": [
        "\n",
        "# Lesson 2 Homework: Transport Mode Table for Five Friends\n",
        "# Goal: Read 5 friends' names and transport modes; print a neat table\n",
        "# Concepts: input(), variables, strings, simple list building, basic formatting\n",
        "\n",
        "print(\"Enter the transport mode for five friends (e.g., walk, bike, bus, carpool).\")\n",
        "friends = []\n",
        "modes = []\n",
        "\n",
        "for i in range(1, 6):  # 1 to 5\n",
        "    name = input(f\"Friend {i} name: \").strip()\n",
        "    mode = input(f\"{name}'s transport mode: \").strip().lower()\n",
        "    friends.append(name)\n",
        "    modes.append(mode)\n",
        "\n",
        "# Print a header line\n",
        "print(\"\\n\" + \"-\" * 42)\n",
        "print(f\"{'Friend':<20} | {'Mode':<18}\")\n",
        "print(\"-\" * 42)\n",
        "\n",
        "# Print each row\n",
        "for name, mode in zip(friends, modes):\n",
        "    print(f\"{name:<20} | {mode:<18}\")\n",
        "\n",
        "print(\"-\" * 42)\n",
        "\n",
        "# Extra: Quick count of each mode chosen\n",
        "print(\"\\nSummary of modes selected:\")\n",
        "mode_count = {}\n",
        "for m in modes:\n",
        "    mode_count[m] = mode_count.get(m, 0) + 1\n",
        "\n",
        "for m, c in mode_count.items():\n",
        "    print(f\"- {m.title()}: {c}\")\n"
      ]
    }
  ]
}