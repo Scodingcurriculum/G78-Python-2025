{
  "nbformat": 4,
  "nbformat_minor": 0,
  "metadata": {
    "colab": {
      "provenance": [],
      "include_colab_link": true
    },
    "kernelspec": {
      "name": "python3",
      "display_name": "Python 3"
    },
    "language_info": {
      "name": "python"
    }
  },
  "cells": [
    {
      "cell_type": "markdown",
      "metadata": {
        "id": "view-in-github",
        "colab_type": "text"
      },
      "source": [
        "<a href=\"https://colab.research.google.com/github/Scodingcurriculum/G78-Python-2025/blob/main/C78_HW_L03.ipynb\" target=\"_parent\"><img src=\"https://colab.research.google.com/assets/colab-badge.svg\" alt=\"Open In Colab\"/></a>"
      ]
    },
    {
      "cell_type": "code",
      "execution_count": null,
      "metadata": {
        "id": "RV4kdIBt5Jh5"
      },
      "outputs": [],
      "source": [
        "# Lesson 3 Homework: Favorite U.S. States in UPPERCASE\n",
        "# Goal: Build a list of states from user input and then print all in uppercase\n",
        "# Concepts: lists, append(), iteration with for, string methods (upper), sorted()\n",
        "\n",
        "print(\"=== Favorite U.S. States Collector ===\")\n",
        "\n",
        "# Ask how many states the user wants to enter\n",
        "count = int(input(\"How many favorite states will you enter? \"))\n",
        "\n",
        "states = []\n",
        "\n",
        "# Collect states using a for loop\n",
        "for i in range(count):\n",
        "    s = input(f\"Enter state #{i+1}: \").strip()\n",
        "    if s:   # avoid empty entries\n",
        "        states.append(s)\n",
        "\n",
        "# Print results\n",
        "if not states:\n",
        "    print(\"\\nNo states entered.\")\n",
        "else:\n",
        "    print(\"\\nYour favorite states in UPPERCASE:\")\n",
        "    for st in states:\n",
        "        print(\"-\", st.upper())\n",
        "\n",
        "    # Extra: Show count and alphabetical order\n",
        "    print(f\"\\nTotal favorites: {len(states)}\")\n",
        "    print(\"Alphabetical list:\")\n",
        "    for st in sorted(states, key=str.lower):\n",
        "        print(\"-\", st)\n"
      ]
    }
  ]
}