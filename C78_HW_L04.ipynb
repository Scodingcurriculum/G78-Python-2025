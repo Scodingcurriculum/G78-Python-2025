{
  "nbformat": 4,
  "nbformat_minor": 0,
  "metadata": {
    "colab": {
      "provenance": [],
      "include_colab_link": true
    },
    "kernelspec": {
      "name": "python3",
      "display_name": "Python 3"
    },
    "language_info": {
      "name": "python"
    }
  },
  "cells": [
    {
      "cell_type": "markdown",
      "metadata": {
        "id": "view-in-github",
        "colab_type": "text"
      },
      "source": [
        "<a href=\"https://colab.research.google.com/github/Scodingcurriculum/G78-Python-2025/blob/main/C78_HW_L04.ipynb\" target=\"_parent\"><img src=\"https://colab.research.google.com/assets/colab-badge.svg\" alt=\"Open In Colab\"/></a>"
      ]
    },
    {
      "cell_type": "code",
      "execution_count": null,
      "metadata": {
        "id": "Re8iiLrV5dsP"
      },
      "outputs": [],
      "source": [
        "# Lesson 4 Homework: Natural Disasters Set\n",
        "# Goal: Read 5 disaster names; store unique ones in a set; display info\n",
        "# Concepts: input(), set(), uniqueness, basic reporting\n",
        "\n",
        "entered_order = []   # to remember the order of entry\n",
        "disasters = set()    # to store unique disasters\n",
        "\n",
        "print(\"Enter 5 natural disasters (e.g., earthquake, tornado, flood, drought, tsunami).\")\n",
        "for i in range(1, 6):\n",
        "    d = input(f\"Disaster {i}: \").strip().lower()\n",
        "    entered_order.append(d)\n",
        "    disasters.add(d)\n",
        "\n",
        "print(\"\\nAll (unique) disasters in the set:\")\n",
        "for d in sorted(disasters):\n",
        "    print(\"-\", d)\n",
        "\n",
        "first_entered = entered_order[0] if entered_order else \"N/A\"\n",
        "print(f\"\\nFirst entered (by you): {first_entered}\")\n",
        "print(f\"Total entered (including duplicates): {len(entered_order)}\")\n",
        "print(f\"Total unique disasters: {len(disasters)}\")\n"
      ]
    }
  ]
}