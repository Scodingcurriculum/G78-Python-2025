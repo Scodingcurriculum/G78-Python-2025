{
  "nbformat": 4,
  "nbformat_minor": 0,
  "metadata": {
    "colab": {
      "provenance": [],
      "include_colab_link": true
    },
    "kernelspec": {
      "name": "python3",
      "display_name": "Python 3"
    },
    "language_info": {
      "name": "python"
    }
  },
  "cells": [
    {
      "cell_type": "markdown",
      "metadata": {
        "id": "view-in-github",
        "colab_type": "text"
      },
      "source": [
        "<a href=\"https://colab.research.google.com/github/Scodingcurriculum/G78-Python-2025/blob/main/C78_HW_L05.ipynb\" target=\"_parent\"><img src=\"https://colab.research.google.com/assets/colab-badge.svg\" alt=\"Open In Colab\"/></a>"
      ]
    },
    {
      "cell_type": "code",
      "execution_count": null,
      "metadata": {
        "id": "ZMGMKIbp5oU1"
      },
      "outputs": [],
      "source": [
        "# Lesson 5 Homework: Type Casting Two Numbers\n",
        "# Goal: Read two numbers as STRINGS, convert to INT, and compute sum/diff/product\n",
        "# Concepts: input(), type casting int(), arithmetic operators, formatted output\n",
        "\n",
        "a_str = input(\"Enter first number (as string): \").strip()\n",
        "b_str = input(\"Enter second number (as string): \").strip()\n",
        "\n",
        "# Basic validation: check if they look like integers (optional enhancement)\n",
        "def is_int_like(s):\n",
        "    # allow leading +/- and digits\n",
        "    if s.startswith((\"+\", \"-\")):\n",
        "        return s[1:].isdigit()\n",
        "    return s.isdigit()\n",
        "\n",
        "if not (is_int_like(a_str) and is_int_like(b_str)):\n",
        "    print(\"\\nPlease enter valid integer-like strings (e.g., '12', '-5', '+7').\")\n",
        "else:\n",
        "    a = int(a_str)\n",
        "    b = int(b_str)\n",
        "\n",
        "    the_sum = a + b\n",
        "    the_diff = a - b\n",
        "    the_prod = a * b\n",
        "\n",
        "    print(\"\\nResults\")\n",
        "    print(\"-\" * 20)\n",
        "    print(f\"Sum       : {the_sum}\")\n",
        "    print(f\"Difference: {the_diff}  (first - second)\")\n",
        "    print(f\"Product   : {the_prod}\")\n"
      ]
    }
  ]
}