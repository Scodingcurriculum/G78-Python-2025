{
  "nbformat": 4,
  "nbformat_minor": 0,
  "metadata": {
    "colab": {
      "provenance": [],
      "include_colab_link": true
    },
    "kernelspec": {
      "name": "python3",
      "display_name": "Python 3"
    },
    "language_info": {
      "name": "python"
    }
  },
  "cells": [
    {
      "cell_type": "markdown",
      "metadata": {
        "id": "view-in-github",
        "colab_type": "text"
      },
      "source": [
        "<a href=\"https://colab.research.google.com/github/Scodingcurriculum/G78-Python-2025/blob/main/C78_HW_L06.ipynb\" target=\"_parent\"><img src=\"https://colab.research.google.com/assets/colab-badge.svg\" alt=\"Open In Colab\"/></a>"
      ]
    },
    {
      "cell_type": "code",
      "execution_count": null,
      "metadata": {
        "id": "9bgU_3Jj5x8P"
      },
      "outputs": [],
      "source": [
        "# Lesson 6 Homework: States and Capitals Dictionary\n",
        "# Goal: Build a dictionary of 5 states -> capitals and print neatly\n",
        "# Concepts: dict creation, iteration over items, neat formatting\n",
        "\n",
        "print(\"Enter 5 U.S. states and their capitals.\")\n",
        "state_capitals = {}\n",
        "\n",
        "for i in range(1, 6):\n",
        "    state = input(f\"State {i}: \").strip().title()\n",
        "    capital = input(f\"Capital of {state}: \").strip().title()\n",
        "    state_capitals[state] = capital\n",
        "\n",
        "print(\"\\n\" + \"-\" * 44)\n",
        "print(f\"{'State':<22} | {'Capital':<20}\")\n",
        "print(\"-\" * 44)\n",
        "for state, capital in state_capitals.items():\n",
        "    print(f\"{state:<22} | {capital:<20}\")\n",
        "print(\"-\" * 44)\n",
        "\n",
        "# Extra: Sorted by state name\n",
        "print(\"\\nSorted by State:\")\n",
        "for state in sorted(state_capitals):\n",
        "    print(f\"- {state}: {state_capitals[state]}\")\n"
      ]
    }
  ]
}