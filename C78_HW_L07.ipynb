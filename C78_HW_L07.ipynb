{
  "nbformat": 4,
  "nbformat_minor": 0,
  "metadata": {
    "colab": {
      "provenance": [],
      "include_colab_link": true
    },
    "kernelspec": {
      "name": "python3",
      "display_name": "Python 3"
    },
    "language_info": {
      "name": "python"
    }
  },
  "cells": [
    {
      "cell_type": "markdown",
      "metadata": {
        "id": "view-in-github",
        "colab_type": "text"
      },
      "source": [
        "<a href=\"https://colab.research.google.com/github/Scodingcurriculum/G78-Python-2025/blob/main/C78_HW_L07.ipynb\" target=\"_parent\"><img src=\"https://colab.research.google.com/assets/colab-badge.svg\" alt=\"Open In Colab\"/></a>"
      ]
    },
    {
      "cell_type": "code",
      "execution_count": null,
      "metadata": {
        "id": "-O5HyDug585v"
      },
      "outputs": [],
      "source": [
        "# Lesson 7 Homework: Subject Category (STEM or Arts)\n",
        "# Goal: Classify a subject into STEM or Arts based on a simple list/match\n",
        "# Concepts: input(), normalization, decision making (if/elif/else), match case (optional)\n",
        "\n",
        "subject = input(\"Enter a subject name: \").strip().lower()\n",
        "\n",
        "# Predefined sets for classification (extend as needed)\n",
        "stem_subjects = {\n",
        "    \"math\", \"mathematics\", \"physics\", \"chemistry\", \"biology\",\n",
        "    \"computer science\", \"cs\", \"engineering\", \"statistics\", \"geology\"\n",
        "}\n",
        "arts_subjects = {\n",
        "    \"history\", \"geography\", \"political science\", \"psychology\",\n",
        "    \"philosophy\", \"economics\", \"literature\", \"sociology\", \"art\", \"music\"\n",
        "}\n",
        "\n",
        "# Normalize a few common variations\n",
        "aliases = {\n",
        "    \"sci\": \"science\",  # example alias\n",
        "    \"cs\": \"computer science\"\n",
        "}\n",
        "subject = aliases.get(subject, subject)\n",
        "\n",
        "if subject in stem_subjects:\n",
        "    print(\"Category: STEM\")\n",
        "elif subject in arts_subjects:\n",
        "    print(\"Category: Arts\")\n",
        "else:\n",
        "    print(\"Category: Unknown/Interdisciplinary\")\n",
        "    print(\"(Tip: Try common subjects like 'Math', 'History', 'Computer Science')\")\n"
      ]
    }
  ]
}