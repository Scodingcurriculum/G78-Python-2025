{
  "nbformat": 4,
  "nbformat_minor": 0,
  "metadata": {
    "colab": {
      "provenance": [],
      "include_colab_link": true
    },
    "kernelspec": {
      "name": "python3",
      "display_name": "Python 3"
    },
    "language_info": {
      "name": "python"
    }
  },
  "cells": [
    {
      "cell_type": "markdown",
      "metadata": {
        "id": "view-in-github",
        "colab_type": "text"
      },
      "source": [
        "<a href=\"https://colab.research.google.com/github/Scodingcurriculum/G78-Python-2025/blob/main/C78_HW_L08.ipynb\" target=\"_parent\"><img src=\"https://colab.research.google.com/assets/colab-badge.svg\" alt=\"Open In Colab\"/></a>"
      ]
    },
    {
      "cell_type": "code",
      "execution_count": null,
      "metadata": {
        "id": "rdbmGbST6c_r"
      },
      "outputs": [],
      "source": [
        "# Lesson 08 Homework: Multiplication Tables from 1 to 10\n",
        "# -----------------------------------------------------\n",
        "# In this exercise, we will use a FOR loop to generate\n",
        "# multiplication tables for numbers from 1 to 10.\n",
        "#\n",
        "# Steps:\n",
        "# 1. We will create a loop that goes through numbers 1 to 10.\n",
        "# 2. For each number, we will generate another loop (1 to 10).\n",
        "# 3. We will multiply the two numbers and display the result in table format.\n",
        "# 4. Add decorative lines to make it look neat.\n",
        "# -----------------------------------------------------\n",
        "\n",
        "# Print a welcome message\n",
        "print(\"Welcome to the Multiplication Tables Generator!\")\n",
        "print(\"We will print tables for numbers 1 to 10.\\n\")\n",
        "\n",
        "# Outer loop → generates one table at a time\n",
        "for number in range(1, 11):   # 1 through 10\n",
        "    print(\"=\" * 35)           # Decorative separator line\n",
        "    print(f\" Multiplication Table of {number} \")  # Table header\n",
        "    print(\"=\" * 35)\n",
        "\n",
        "    # Inner loop → prints one line of the current table\n",
        "    for multiplier in range(1, 11):   # 1 through 10\n",
        "        product = number * multiplier\n",
        "        # Format the output clearly\n",
        "        print(f\"{number} x {multiplier:2} = {product:3}\")\n",
        "\n",
        "    # After finishing one table, add an extra blank line\n",
        "    print(\"\\n\")\n",
        "\n",
        "# Final message after all tables\n",
        "print(\"All multiplication tables from 1 to 10 have been printed successfully!\")\n",
        "\n",
        "# -----------------------------------------------------\n",
        "# Extra practice:\n",
        "# Let's print tables in reverse order (10 down to 1)\n",
        "print(\"\\nNow let's see the tables in REVERSE order!\\n\")\n",
        "\n",
        "for number in range(10, 0, -1):  # counts downwards from 10 to 1\n",
        "    print(\"-\" * 35)\n",
        "    print(f\" Reverse Multiplication Table of {number} \")\n",
        "    print(\"-\" * 35)\n",
        "\n",
        "    for multiplier in range(1, 11):\n",
        "        product = number * multiplier\n",
        "        print(f\"{number} x {multiplier:2} = {product:3}\")\n",
        "\n",
        "    print(\"\\n\")\n",
        "\n",
        "print(\"Done! Reverse order tables are also printed.\")\n"
      ]
    }
  ]
}