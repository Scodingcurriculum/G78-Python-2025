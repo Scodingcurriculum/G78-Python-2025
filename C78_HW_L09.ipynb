{
  "nbformat": 4,
  "nbformat_minor": 0,
  "metadata": {
    "colab": {
      "provenance": [],
      "include_colab_link": true
    },
    "kernelspec": {
      "name": "python3",
      "display_name": "Python 3"
    },
    "language_info": {
      "name": "python"
    }
  },
  "cells": [
    {
      "cell_type": "markdown",
      "metadata": {
        "id": "view-in-github",
        "colab_type": "text"
      },
      "source": [
        "<a href=\"https://colab.research.google.com/github/Scodingcurriculum/G78-Python-2025/blob/main/C78_HW_L09.ipynb\" target=\"_parent\"><img src=\"https://colab.research.google.com/assets/colab-badge.svg\" alt=\"Open In Colab\"/></a>"
      ]
    },
    {
      "cell_type": "code",
      "execution_count": null,
      "metadata": {
        "id": "onkI3N1k8h9A"
      },
      "outputs": [],
      "source": [
        "# Lesson 09 Homework: Checkerboard Pattern (8x8) using # and .\n",
        "# -------------------------------------------------------------\n",
        "# Goal:\n",
        "#   1) Print an 8x8 checkerboard using two characters: '#' and '.'\n",
        "#   2) Use nested loops for row/column printing\n",
        "#   3) Add neat borders and spacing for readability\n",
        "#\n",
        "# Extensions included:\n",
        "#   - Ability to print ANY N x N size (default 8)\n",
        "#   - Print two variants: starting with '#' and starting with '.'\n",
        "# -------------------------------------------------------------\n",
        "\n",
        "# Function to print a checkerboard of given size\n",
        "def print_checkerboard(size=8, start_with_hash=True):\n",
        "    # Decide the starting characters based on the flag\n",
        "    first, second = (\"#\", \".\") if start_with_hash else (\".\", \"#\")\n",
        "\n",
        "    # Decorative header\n",
        "    print(\"=\" * (size * 2))\n",
        "    title = f\"Checkerboard {size}x{size} (start='{first}')\"\n",
        "    print(title)\n",
        "    print(\"=\" * (size * 2))\n",
        "\n",
        "    # Outer loop for rows\n",
        "    for row in range(size):\n",
        "        line = \"\"\n",
        "        # Inner loop for columns\n",
        "        for col in range(size):\n",
        "            # If row+col is even -> first char, else second char\n",
        "            if (row + col) % 2 == 0:\n",
        "                line += first + \" \"\n",
        "            else:\n",
        "                line += second + \" \"\n",
        "        print(line)\n",
        "    print(\"\\n\")  # extra space after the board\n",
        "\n",
        "# Print default 8x8 starting with '#'\n",
        "print_checkerboard(8, start_with_hash=True)\n",
        "\n",
        "# Extra: also show a board that starts with '.'\n",
        "print_checkerboard(8, start_with_hash=False)\n",
        "\n",
        "# Super extra: let students try a different size (like 10)\n",
        "print(\"Now printing a 10x10 checkerboard for extra practice...\\n\")\n",
        "print_checkerboard(10, start_with_hash=True)\n",
        "\n",
        "print(\"All checkerboards printed successfully!\")\n"
      ]
    }
  ]
}