{
  "nbformat": 4,
  "nbformat_minor": 0,
  "metadata": {
    "colab": {
      "provenance": [],
      "include_colab_link": true
    },
    "kernelspec": {
      "name": "python3",
      "display_name": "Python 3"
    },
    "language_info": {
      "name": "python"
    }
  },
  "cells": [
    {
      "cell_type": "markdown",
      "metadata": {
        "id": "view-in-github",
        "colab_type": "text"
      },
      "source": [
        "<a href=\"https://colab.research.google.com/github/Scodingcurriculum/G78-Python-2025/blob/main/C78_HW_L10.ipynb\" target=\"_parent\"><img src=\"https://colab.research.google.com/assets/colab-badge.svg\" alt=\"Open In Colab\"/></a>"
      ]
    },
    {
      "cell_type": "code",
      "execution_count": null,
      "metadata": {
        "id": "2Vs3YE93_FnJ"
      },
      "outputs": [],
      "source": [
        "# Lesson 10 Homework: Keep reading numbers until 0, then show the sum\n",
        "# -------------------------------------------------------------------\n",
        "# Concepts: while loop, break/continue/pass (we'll use break and continue),\n",
        "#           input validation, running totals, formatted output\n",
        "\n",
        "print(\"Enter numbers to add. Enter 0 to stop.\\n\")\n",
        "\n",
        "total = 0\n",
        "count = 0\n",
        "positives = 0\n",
        "negatives = 0\n",
        "\n",
        "while True:\n",
        "    raw = input(\"Enter a number (0 to end): \").strip()\n",
        "\n",
        "    # Skip empty inputs using 'continue'\n",
        "    if raw == \"\":\n",
        "        print(\"Empty input skipped. Please type a number.\")\n",
        "        continue\n",
        "\n",
        "    # Validate number\n",
        "    try:\n",
        "        num = float(raw)  # allow decimals too\n",
        "    except ValueError:\n",
        "        print(\"That wasn't a valid number! Try again.\")\n",
        "        continue\n",
        "\n",
        "    # End condition\n",
        "    if num == 0:\n",
        "        print(\"\\nYou entered 0. Stopping...\")\n",
        "        break  # exits the while loop\n",
        "\n",
        "    # Accumulate\n",
        "    total += num\n",
        "    count += 1\n",
        "    if num > 0:\n",
        "        positives += 1\n",
        "    elif num < 0:\n",
        "        negatives += 1\n",
        "    else:\n",
        "        # This won't run because we break on 0, but left here to demo 'pass'\n",
        "        pass\n",
        "\n",
        "# Final summary\n",
        "print(\"\\n\" + \"-\" * 36)\n",
        "print(\"Summary of your inputs\")\n",
        "print(\"-\" * 36)\n",
        "print(f\"Count of numbers : {count}\")\n",
        "print(f\"Sum of numbers   : {total}\")\n",
        "print(f\"Positive numbers : {positives}\")\n",
        "print(f\"Negative numbers : {negatives}\")\n",
        "print(\"-\" * 36)\n",
        "\n",
        "# Extra: Average if count > 0\n",
        "if count > 0:\n",
        "    avg = total / count\n",
        "    print(f\"Average          : {avg:.2f}\")\n",
        "else:\n",
        "    print(\"No numbers (other than 0) were entered.\")\n"
      ]
    }
  ]
}