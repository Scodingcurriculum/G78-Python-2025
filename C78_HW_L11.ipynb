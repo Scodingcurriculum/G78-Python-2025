{
  "nbformat": 4,
  "nbformat_minor": 0,
  "metadata": {
    "colab": {
      "provenance": [],
      "include_colab_link": true
    },
    "kernelspec": {
      "name": "python3",
      "display_name": "Python 3"
    },
    "language_info": {
      "name": "python"
    }
  },
  "cells": [
    {
      "cell_type": "markdown",
      "metadata": {
        "id": "view-in-github",
        "colab_type": "text"
      },
      "source": [
        "<a href=\"https://colab.research.google.com/github/Scodingcurriculum/G78-Python-2025/blob/main/C78_HW_L11.ipynb\" target=\"_parent\"><img src=\"https://colab.research.google.com/assets/colab-badge.svg\" alt=\"Open In Colab\"/></a>"
      ]
    },
    {
      "cell_type": "code",
      "execution_count": null,
      "metadata": {
        "id": "zkAvzArb_RMg"
      },
      "outputs": [],
      "source": [
        "# Lesson 11 Homework: Personalized Greeting Function\n",
        "# --------------------------------------------------\n",
        "# Concepts: defining functions, parameters/return values, input handling\n",
        "\n",
        "def greet_student(name):\n",
        "    \"\"\"\n",
        "    Returns a personalized greeting string for the given student name.\n",
        "    \"\"\"\n",
        "    # Ensure consistent formatting (capitalize first letter of each word)\n",
        "    nice_name = \" \".join(part.capitalize() for part in name.split())\n",
        "    return f\"Hello, {nice_name}! Ready for math practice?\"\n",
        "\n",
        "# Get a name from the user\n",
        "user_name = input(\"Enter your name: \").strip()\n",
        "\n",
        "# If user doesn't type a name, use a friendly default\n",
        "if user_name == \"\":\n",
        "    user_name = \"Learner\"\n",
        "\n",
        "# Call the function and display the message\n",
        "message = greet_student(user_name)\n",
        "print(message)\n",
        "\n",
        "# Extra practice: greet a list of classmates\n",
        "print(\"\\nLet's greet a few more classmates.\")\n",
        "classmates = []\n",
        "for i in range(1, 6):\n",
        "    n = input(f\"Classmate {i} name (or press Enter to skip): \").strip()\n",
        "    if n:\n",
        "        classmates.append(n)\n",
        "\n",
        "# Print greetings for all classmates entered\n",
        "print(\"\\nGreetings:\")\n",
        "for n in classmates:\n",
        "    print(\"-\", greet_student(n))\n",
        "\n",
        "print(\"\\nAll greetings done!\")\n"
      ]
    }
  ]
}