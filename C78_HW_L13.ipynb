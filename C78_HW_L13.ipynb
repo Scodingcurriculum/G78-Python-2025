{
  "nbformat": 4,
  "nbformat_minor": 0,
  "metadata": {
    "colab": {
      "provenance": [],
      "include_colab_link": true
    },
    "kernelspec": {
      "name": "python3",
      "display_name": "Python 3"
    },
    "language_info": {
      "name": "python"
    }
  },
  "cells": [
    {
      "cell_type": "markdown",
      "metadata": {
        "id": "view-in-github",
        "colab_type": "text"
      },
      "source": [
        "<a href=\"https://colab.research.google.com/github/Scodingcurriculum/G78-Python-2025/blob/main/C78_HW_L13.ipynb\" target=\"_parent\"><img src=\"https://colab.research.google.com/assets/colab-badge.svg\" alt=\"Open In Colab\"/></a>"
      ]
    },
    {
      "cell_type": "code",
      "execution_count": null,
      "metadata": {
        "id": "CBFyFJoj_i_0"
      },
      "outputs": [],
      "source": [
        "# Lesson 13 Homework: Library Record Class\n",
        "# ----------------------------------------\n",
        "# Concepts: classes, __init__, __str__, simple list of objects, printing neatly\n",
        "\n",
        "class Book:\n",
        "    def __init__(self, title, author, year):\n",
        "        # Store data in object attributes\n",
        "        self.title = title\n",
        "        self.author = author\n",
        "        self.year = year\n",
        "\n",
        "    def __str__(self):\n",
        "        # Nice string representation for printing\n",
        "        return f\"'{self.title}' by {self.author} ({self.year})\"\n",
        "\n",
        "# Collect a few books from the user\n",
        "books = []\n",
        "print(\"Enter details for 3 books in your mini library:\")\n",
        "for i in range(1, 4):\n",
        "    print(f\"\\nBook {i}:\")\n",
        "    t = input(\"  Title : \").strip()\n",
        "    a = input(\"  Author: \").strip()\n",
        "    y = input(\"  Year  : \").strip()\n",
        "    # Basic cleanups\n",
        "    t = t if t else f\"Untitled {i}\"\n",
        "    a = a if a else \"Unknown\"\n",
        "    y = y if y.isdigit() else \"0000\"\n",
        "    books.append(Book(t, a, y))\n",
        "\n",
        "# Print all books\n",
        "print(\"\\nYour Library Records\")\n",
        "print(\"-\" * 40)\n",
        "for b in books:\n",
        "    print(b)\n",
        "\n",
        "# Extra: Search by author\n",
        "search_author = input(\"\\nSearch books by author (press Enter to skip): \").strip()\n",
        "if search_author:\n",
        "    print(f\"Books by {search_author}:\")\n",
        "    found = False\n",
        "    for b in books:\n",
        "        if b.author.lower() == search_author.lower():\n",
        "            print(\"-\", b)\n",
        "            found = True\n",
        "    if not found:\n",
        "        print(\"(No matches found)\")\n"
      ]
    }
  ]
}