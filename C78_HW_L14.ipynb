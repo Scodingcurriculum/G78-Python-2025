{
  "nbformat": 4,
  "nbformat_minor": 0,
  "metadata": {
    "colab": {
      "provenance": [],
      "include_colab_link": true
    },
    "kernelspec": {
      "name": "python3",
      "display_name": "Python 3"
    },
    "language_info": {
      "name": "python"
    }
  },
  "cells": [
    {
      "cell_type": "markdown",
      "metadata": {
        "id": "view-in-github",
        "colab_type": "text"
      },
      "source": [
        "<a href=\"https://colab.research.google.com/github/Scodingcurriculum/G78-Python-2025/blob/main/C78_HW_L14.ipynb\" target=\"_parent\"><img src=\"https://colab.research.google.com/assets/colab-badge.svg\" alt=\"Open In Colab\"/></a>"
      ]
    },
    {
      "cell_type": "code",
      "execution_count": null,
      "metadata": {
        "id": "GferyZKA_v3n"
      },
      "outputs": [],
      "source": [
        "# Lesson 14 Homework: Basic Tkinter Welcome Window\n",
        "# -------------------------------------------------\n",
        "# Concepts: Tkinter root window, title, geometry, Label widget, basic fonts\n",
        "# Note: Run this on a local machine or a notebook environment that supports GUI.\n",
        "\n",
        "import tkinter as tk\n",
        "\n",
        "# Create main window\n",
        "root = tk.Tk()\n",
        "root.title(\"Welcome App\")\n",
        "root.geometry(\"420x200\")  # width x height\n",
        "\n",
        "# Create a label with some padding\n",
        "welcome_label = tk.Label(\n",
        "    root,\n",
        "    text=\"Welcome to Python GUI\",\n",
        "    font=(\"Arial\", 16),\n",
        "    padx=10,\n",
        "    pady=20\n",
        ")\n",
        "welcome_label.pack()\n",
        "\n",
        "# Extra: Add a sub-label with instructions\n",
        "sub_label = tk.Label(\n",
        "    root,\n",
        "    text=\"This is your first Tkinter window. Close it when done.\",\n",
        "    font=(\"Arial\", 10)\n",
        ")\n",
        "sub_label.pack()\n",
        "\n",
        "# Extra: Add a Quit button\n",
        "quit_btn = tk.Button(root, text=\"Quit\", command=root.destroy)\n",
        "quit_btn.pack(pady=10)\n",
        "\n",
        "# Start the Tkinter event loop\n",
        "root.mainloop()\n"
      ]
    }
  ]
}