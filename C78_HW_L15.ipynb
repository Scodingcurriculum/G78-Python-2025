{
  "nbformat": 4,
  "nbformat_minor": 0,
  "metadata": {
    "colab": {
      "provenance": [],
      "include_colab_link": true
    },
    "kernelspec": {
      "name": "python3",
      "display_name": "Python 3"
    },
    "language_info": {
      "name": "python"
    }
  },
  "cells": [
    {
      "cell_type": "markdown",
      "metadata": {
        "id": "view-in-github",
        "colab_type": "text"
      },
      "source": [
        "<a href=\"https://colab.research.google.com/github/Scodingcurriculum/G78-Python-2025/blob/main/C78_HW_L15.ipynb\" target=\"_parent\"><img src=\"https://colab.research.google.com/assets/colab-badge.svg\" alt=\"Open In Colab\"/></a>"
      ]
    },
    {
      "cell_type": "code",
      "execution_count": null,
      "metadata": {
        "id": "VOAX5GfG_5_C"
      },
      "outputs": [],
      "source": [
        "# Lesson 15 Homework: Positive/Negative Checker (Tkinter)\n",
        "# -------------------------------------------------------\n",
        "# Concepts: Entry, Button, Label updates, basic validation, message labels\n",
        "\n",
        "import tkinter as tk\n",
        "from tkinter import messagebox\n",
        "\n",
        "root = tk.Tk()\n",
        "root.title(\"Number Sign Checker\")\n",
        "root.geometry(\"400x220\")\n",
        "\n",
        "# Instruction label\n",
        "instr = tk.Label(root, text=\"Enter a number and I will tell you if it's positive, negative, or zero.\", wraplength=360)\n",
        "instr.pack(pady=10)\n",
        "\n",
        "# Entry for number input\n",
        "entry = tk.Entry(root, width=25)\n",
        "entry.pack(pady=5)\n",
        "\n",
        "# Result label\n",
        "result = tk.Label(root, text=\"Result will appear here.\", fg=\"blue\")\n",
        "result.pack(pady=10)\n",
        "\n",
        "def check_number():\n",
        "    text = entry.get().strip()\n",
        "    if text == \"\":\n",
        "        messagebox.showwarning(\"Input needed\", \"Please type a number first.\")\n",
        "        return\n",
        "    try:\n",
        "        num = float(text)\n",
        "    except ValueError:\n",
        "        messagebox.showerror(\"Invalid input\", \"That is not a valid number.\")\n",
        "        return\n",
        "\n",
        "    if num > 0:\n",
        "        result.config(text=f\"{num} is POSITIVE.\", fg=\"green\")\n",
        "    elif num < 0:\n",
        "        result.config(text=f\"{num} is NEGATIVE.\", fg=\"red\")\n",
        "    else:\n",
        "        result.config(text=\"The number is ZERO.\", fg=\"purple\")\n",
        "\n",
        "# Buttons\n",
        "check_btn = tk.Button(root, text=\"Check\", command=check_number)\n",
        "check_btn.pack(pady=5)\n",
        "\n",
        "clear_btn = tk.Button(root, text=\"Clear\", command=lambda: (entry.delete(0, tk.END), result.config(text=\"Result will appear here.\", fg=\"blue\")))\n",
        "clear_btn.pack(pady=2)\n",
        "\n",
        "quit_btn = tk.Button(root, text=\"Quit\", command=root.destroy)\n",
        "quit_btn.pack(pady=8)\n",
        "\n",
        "root.mainloop()\n"
      ]
    }
  ]
}