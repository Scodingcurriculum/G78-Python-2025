{
  "nbformat": 4,
  "nbformat_minor": 0,
  "metadata": {
    "colab": {
      "provenance": [],
      "include_colab_link": true
    },
    "kernelspec": {
      "name": "python3",
      "display_name": "Python 3"
    },
    "language_info": {
      "name": "python"
    }
  },
  "cells": [
    {
      "cell_type": "markdown",
      "metadata": {
        "id": "view-in-github",
        "colab_type": "text"
      },
      "source": [
        "<a href=\"https://colab.research.google.com/github/Scodingcurriculum/G78-Python-2025/blob/main/C78_HW_L17.ipynb\" target=\"_parent\"><img src=\"https://colab.research.google.com/assets/colab-badge.svg\" alt=\"Open In Colab\"/></a>"
      ]
    },
    {
      "cell_type": "code",
      "execution_count": null,
      "metadata": {
        "id": "PZxRZDwkAOav"
      },
      "outputs": [],
      "source": [
        "# Lesson 17 Homework: Grocery List (Add/Delete)\n",
        "# ---------------------------------------------\n",
        "# Concepts: Listbox, Entry, Buttons, add/delete items, basic validation\n",
        "\n",
        "import tkinter as tk\n",
        "from tkinter import messagebox\n",
        "\n",
        "root = tk.Tk()\n",
        "root.title(\"Grocery List Manager\")\n",
        "root.geometry(\"420x320\")\n",
        "\n",
        "# Widgets\n",
        "lbl = tk.Label(root, text=\"Type a grocery item:\")\n",
        "lbl.pack(pady=5)\n",
        "\n",
        "entry = tk.Entry(root, width=30)\n",
        "entry.pack(pady=5)\n",
        "\n",
        "listbox = tk.Listbox(root, width=40, height=10)\n",
        "listbox.pack(pady=10)\n",
        "\n",
        "def add_item():\n",
        "    item = entry.get().strip()\n",
        "    if not item:\n",
        "        messagebox.showwarning(\"Empty\", \"Please type an item.\")\n",
        "        return\n",
        "    listbox.insert(tk.END, item)\n",
        "    entry.delete(0, tk.END)\n",
        "\n",
        "def delete_selected():\n",
        "    # Get selected indices\n",
        "    selected = listbox.curselection()\n",
        "    if not selected:\n",
        "        messagebox.showinfo(\"No selection\", \"Please select an item to delete.\")\n",
        "        return\n",
        "    for index in reversed(selected):  # delete from bottom to top\n",
        "        listbox.delete(index)\n",
        "\n",
        "def clear_all():\n",
        "    if messagebox.askyesno(\"Confirm\", \"Remove ALL items?\"):\n",
        "        listbox.delete(0, tk.END)\n",
        "\n",
        "# Buttons\n",
        "btn_frame = tk.Frame(root)\n",
        "btn_frame.pack(pady=5)\n",
        "\n",
        "add_btn = tk.Button(btn_frame, text=\"Add\", width=10, command=add_item)\n",
        "del_btn = tk.Button(btn_frame, text=\"Delete\", width=10, command=delete_selected)\n",
        "clr_btn = tk.Button(btn_frame, text=\"Clear All\", width=10, command=clear_all)\n",
        "\n",
        "add_btn.grid(row=0, column=0, padx=5)\n",
        "del_btn.grid(row=0, column=1, padx=5)\n",
        "clr_btn.grid(row=0, column=2, padx=5)\n",
        "\n",
        "quit_btn = tk.Button(root, text=\"Quit\", command=root.destroy)\n",
        "quit_btn.pack(pady=8)\n",
        "\n",
        "root.mainloop()\n"
      ]
    }
  ]
}