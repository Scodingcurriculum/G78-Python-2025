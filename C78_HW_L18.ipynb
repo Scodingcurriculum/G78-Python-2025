{
  "nbformat": 4,
  "nbformat_minor": 0,
  "metadata": {
    "colab": {
      "provenance": [],
      "include_colab_link": true
    },
    "kernelspec": {
      "name": "python3",
      "display_name": "Python 3"
    },
    "language_info": {
      "name": "python"
    }
  },
  "cells": [
    {
      "cell_type": "markdown",
      "metadata": {
        "id": "view-in-github",
        "colab_type": "text"
      },
      "source": [
        "<a href=\"https://colab.research.google.com/github/Scodingcurriculum/G78-Python-2025/blob/main/C78_HW_L18.ipynb\" target=\"_parent\"><img src=\"https://colab.research.google.com/assets/colab-badge.svg\" alt=\"Open In Colab\"/></a>"
      ]
    },
    {
      "cell_type": "code",
      "execution_count": null,
      "metadata": {
        "id": "spZ5pEegAZUi"
      },
      "outputs": [],
      "source": [
        "# Lesson 18 Homework: State Search (Tkinter)\n",
        "# ------------------------------------------\n",
        "# Concepts: Listbox, Entry, searching items, highlight selection(s)\n",
        "\n",
        "import tkinter as tk\n",
        "from tkinter import messagebox\n",
        "\n",
        "root = tk.Tk()\n",
        "root.title(\"U.S. State Finder\")\n",
        "root.geometry(\"460x360\")\n",
        "\n",
        "# Sample states list (a subset for demo)\n",
        "states = [\n",
        "    \"Alabama\", \"Alaska\", \"Arizona\", \"Arkansas\", \"California\", \"Colorado\",\n",
        "    \"Connecticut\", \"Delaware\", \"Florida\", \"Georgia\", \"Hawaii\", \"Idaho\",\n",
        "    \"Illinois\", \"Indiana\", \"Iowa\", \"Kansas\", \"Kentucky\", \"Louisiana\",\n",
        "    \"Maine\", \"Maryland\", \"Massachusetts\", \"Michigan\", \"Minnesota\",\n",
        "    \"Mississippi\", \"Missouri\", \"Montana\", \"Nebraska\", \"Nevada\", \"New Hampshire\",\n",
        "    \"New Jersey\", \"New Mexico\", \"New York\", \"North Carolina\", \"North Dakota\",\n",
        "    \"Ohio\", \"Oklahoma\", \"Oregon\", \"Pennsylvania\", \"Rhode Island\", \"South Carolina\",\n",
        "    \"South Dakota\", \"Tennessee\", \"Texas\", \"Utah\", \"Vermont\", \"Virginia\",\n",
        "    \"Washington\", \"West Virginia\", \"Wisconsin\", \"Wyoming\"\n",
        "]\n",
        "\n",
        "# UI\n",
        "tk.Label(root, text=\"Search for a state:\").pack(pady=5)\n",
        "entry = tk.Entry(root, width=30)\n",
        "entry.pack(pady=5)\n",
        "\n",
        "listbox = tk.Listbox(root, width=40, height=12)\n",
        "listbox.pack(pady=10)\n",
        "\n",
        "# Fill listbox\n",
        "for s in states:\n",
        "    listbox.insert(tk.END, s)\n",
        "\n",
        "def do_search():\n",
        "    target = entry.get().strip().lower()\n",
        "    listbox.selection_clear(0, tk.END)  # clear old selection\n",
        "    if target == \"\":\n",
        "        messagebox.showinfo(\"Empty\", \"Type a state name to search.\")\n",
        "        return\n",
        "\n",
        "    found_any = False\n",
        "    for i, item in enumerate(states):\n",
        "        if target in item.lower():  # partial match allowed\n",
        "            listbox.selection_set(i)\n",
        "            listbox.see(i)\n",
        "            found_any = True\n",
        "\n",
        "    if not found_any:\n",
        "        messagebox.showinfo(\"Not found\", f\"No match for '{target}'.\")\n",
        "\n",
        "search_btn = tk.Button(root, text=\"Search\", command=do_search)\n",
        "search_btn.pack(pady=5)\n",
        "\n",
        "quit_btn = tk.Button(root, text=\"Quit\", command=root.destroy)\n",
        "quit_btn.pack(pady=5)\n",
        "\n",
        "root.mainloop()\n"
      ]
    }
  ]
}