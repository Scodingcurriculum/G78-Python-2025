{
  "nbformat": 4,
  "nbformat_minor": 0,
  "metadata": {
    "colab": {
      "provenance": [],
      "include_colab_link": true
    },
    "kernelspec": {
      "name": "python3",
      "display_name": "Python 3"
    },
    "language_info": {
      "name": "python"
    }
  },
  "cells": [
    {
      "cell_type": "markdown",
      "metadata": {
        "id": "view-in-github",
        "colab_type": "text"
      },
      "source": [
        "<a href=\"https://colab.research.google.com/github/Scodingcurriculum/G78-Python-2025/blob/main/C78_HW_L19.ipynb\" target=\"_parent\"><img src=\"https://colab.research.google.com/assets/colab-badge.svg\" alt=\"Open In Colab\"/></a>"
      ]
    },
    {
      "cell_type": "code",
      "execution_count": null,
      "metadata": {
        "id": "ew8gfdCzAk3n"
      },
      "outputs": [],
      "source": [
        "# Lesson 19 Homework: Highest Science Scorer\n",
        "# ------------------------------------------\n",
        "# Concepts: lists/dicts, max() with key, formatting, basic validation\n",
        "\n",
        "print(\"Enter number of students (e.g., 5):\")\n",
        "while True:\n",
        "    n_raw = input(\"How many students? \").strip()\n",
        "    if n_raw.isdigit() and int(n_raw) > 0:\n",
        "        n = int(n_raw)\n",
        "        break\n",
        "    else:\n",
        "        print(\"Please enter a positive integer.\")\n",
        "\n",
        "students = []  # list of dicts: {\"name\": str, \"science\": float}\n",
        "\n",
        "for i in range(1, n + 1):\n",
        "    print(f\"\\nStudent {i}:\")\n",
        "    name = input(\"  Name   : \").strip() or f\"Student{i}\"\n",
        "\n",
        "    # Read science marks\n",
        "    while True:\n",
        "        m_raw = input(\"  Science marks (0-100): \").strip()\n",
        "        try:\n",
        "            m = float(m_raw)\n",
        "            if 0 <= m <= 100:\n",
        "                break\n",
        "            else:\n",
        "                print(\"  Enter a value between 0 and 100.\")\n",
        "        except ValueError:\n",
        "            print(\"  Please enter a number.\")\n",
        "    students.append({\"name\": name, \"science\": m})\n",
        "\n",
        "# Find topper\n",
        "topper = max(students, key=lambda s: s[\"science\"]) if students else None\n",
        "\n",
        "# Print all + topper\n",
        "print(\"\\nAll Students (Science):\")\n",
        "print(\"-\" * 32)\n",
        "for s in students:\n",
        "    print(f\"{s['name']:<16} -> {s['science']:>6.2f}\")\n",
        "\n",
        "print(\"-\" * 32)\n",
        "if topper:\n",
        "    print(f\"Topper in Science: {topper['name']} ({topper['science']:.2f}) 🎉\")\n",
        "else:\n",
        "    print(\"No students to evaluate.\")\n",
        "\n",
        "# Extra: Also list students scoring >= 90\n",
        "excellent = [s for s in students if s[\"science\"] >= 90]\n",
        "if excellent:\n",
        "    print(\"\\nExcellent (>=90):\")\n",
        "    for s in excellent:\n",
        "        print(\"-\", s[\"name\"], s[\"science\"])\n"
      ]
    }
  ]
}