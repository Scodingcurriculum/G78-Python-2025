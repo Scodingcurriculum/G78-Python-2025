{
  "nbformat": 4,
  "nbformat_minor": 0,
  "metadata": {
    "colab": {
      "provenance": [],
      "include_colab_link": true
    },
    "kernelspec": {
      "name": "python3",
      "display_name": "Python 3"
    },
    "language_info": {
      "name": "python"
    }
  },
  "cells": [
    {
      "cell_type": "markdown",
      "metadata": {
        "id": "view-in-github",
        "colab_type": "text"
      },
      "source": [
        "<a href=\"https://colab.research.google.com/github/Scodingcurriculum/G78-Python-2025/blob/main/C78_HW_L21.ipynb\" target=\"_parent\"><img src=\"https://colab.research.google.com/assets/colab-badge.svg\" alt=\"Open In Colab\"/></a>"
      ]
    },
    {
      "cell_type": "code",
      "execution_count": null,
      "metadata": {
        "id": "-KnvmzMVBNaW"
      },
      "outputs": [],
      "source": [
        "# Lesson 21 Homework: Weekly Homework Schedule -> Text File\n",
        "# ---------------------------------------------------------\n",
        "# Concepts: writing text files, basic formatting, user input, os.path check\n",
        "\n",
        "import os\n",
        "\n",
        "print(\"Let's create your weekly homework schedule and save it to a text file.\\n\")\n",
        "filename = \"weekly_homework_schedule.txt\"\n",
        "\n",
        "days = [\"Monday\", \"Tuesday\", \"Wednesday\", \"Thursday\", \"Friday\", \"Saturday\", \"Sunday\"]\n",
        "schedule = {}\n",
        "\n",
        "# Collect homework plans for each day\n",
        "for day in days:\n",
        "    subject = input(f\"{day} - Subject (e.g., Math/Science/English): \").strip()\n",
        "    task = input(f\"{day} - Task/Topic to study: \").strip()\n",
        "    time = input(f\"{day} - Planned time (e.g., 5:00-6:00 PM): \").strip()\n",
        "    schedule[day] = {\"subject\": subject or \"N/A\", \"task\": task or \"N/A\", \"time\": time or \"N/A\"}\n",
        "    print(\"-\" * 45)\n",
        "\n",
        "# Build the file contents\n",
        "lines = []\n",
        "lines.append(\"WEEKLY HOMEWORK SCHEDULE\")\n",
        "lines.append(\"=\" * 28)\n",
        "for d in days:\n",
        "    s = schedule[d]\n",
        "    lines.append(f\"\\n{d}:\")\n",
        "    lines.append(f\"  Subject : {s['subject']}\")\n",
        "    lines.append(f\"  Task    : {s['task']}\")\n",
        "    lines.append(f\"  Time    : {s['time']}\")\n",
        "\n",
        "# Write to file\n",
        "with open(filename, \"w\", encoding=\"utf-8\") as f:\n",
        "    f.write(\"\\n\".join(lines))\n",
        "\n",
        "print(f\"\\nYour schedule has been saved to '{os.path.abspath(filename)}'.\")\n",
        "\n",
        "# Extra: Preview the file content\n",
        "print(\"\\nPreview:\")\n",
        "print(\"-\" * 40)\n",
        "print(\"\\n\".join(lines))\n",
        "print(\"-\" * 40)\n"
      ]
    }
  ]
}