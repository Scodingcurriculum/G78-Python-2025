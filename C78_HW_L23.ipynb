{
  "nbformat": 4,
  "nbformat_minor": 0,
  "metadata": {
    "colab": {
      "provenance": [],
      "include_colab_link": true
    },
    "kernelspec": {
      "name": "python3",
      "display_name": "Python 3"
    },
    "language_info": {
      "name": "python"
    }
  },
  "cells": [
    {
      "cell_type": "markdown",
      "metadata": {
        "id": "view-in-github",
        "colab_type": "text"
      },
      "source": [
        "<a href=\"https://colab.research.google.com/github/Scodingcurriculum/G78-Python-2025/blob/main/C78_HW_L23.ipynb\" target=\"_parent\"><img src=\"https://colab.research.google.com/assets/colab-badge.svg\" alt=\"Open In Colab\"/></a>"
      ]
    },
    {
      "cell_type": "code",
      "execution_count": null,
      "metadata": {
        "id": "Ck3nim28CQsn"
      },
      "outputs": [],
      "source": [
        "# L23: Capstone Showcase Assistant (Concise)\n",
        "from dataclasses import dataclass, field\n",
        "from typing import List, Optional\n",
        "import csv\n",
        "\n",
        "# ---- Model ----\n",
        "@dataclass\n",
        "class Student:\n",
        "    roll: str\n",
        "    name: str\n",
        "    marks: List[int] = field(default_factory=lambda: [0, 0, 0])\n",
        "    def total(self): return sum(self.marks)\n",
        "    def average(self): return round(self.total()/len(self.marks), 2) if self.marks else 0.0\n",
        "    def grade(self):\n",
        "        a=self.average()\n",
        "        return \"A+\" if a>=90 else \"A\" if a>=80 else \"B\" if a>=70 else \"C\" if a>=60 else \"D\" if a>=50 else \"F\"\n",
        "\n",
        "# ---- App (CRUD, Search, Topper) ----\n",
        "class ShowcaseApp:\n",
        "    def __init__(self): self.students: List[Student] = []\n",
        "    def _idx(self, roll):\n",
        "        for i,s in enumerate(self.students):\n",
        "            if s.roll.lower()==roll.lower(): return i\n",
        "    def add(self, roll, name, m1, m2, m3):\n",
        "        if not roll or not name or any(not(0<=m<=100) for m in (m1,m2,m3)) or self._idx(roll) is not None: return False\n",
        "        self.students.append(Student(roll,name,[m1,m2,m3])); return True\n",
        "    def update(self, roll, name=None, m1=None, m2=None, m3=None):\n",
        "        i=self._idx(roll);\n",
        "        if i is None: return False\n",
        "        s=self.students[i]\n",
        "        if name: s.name=name\n",
        "        for j,v in enumerate([m1,m2,m3]):\n",
        "            if v is not None and 0<=v<=100: s.marks[j]=v\n",
        "        return True\n",
        "    def delete(self, roll):\n",
        "        i=self._idx(roll);\n",
        "        if i is None: return False\n",
        "        self.students.pop(i); return True\n",
        "    def search(self, q):\n",
        "        q=q.lower().strip();\n",
        "        return [s for s in self.students if q in s.roll.lower() or q in s.name.lower()]\n",
        "    def topper(self) -> Optional[Student]:\n",
        "        return max(self.students, key=lambda s:(s.average(), s.total(), s.name.lower())) if self.students else None\n",
        "    def table(self):\n",
        "        print(f\"\\n{'Roll':6s} | {'Name':18s} | m1 m2 m3 | Tot  Avg Grade\\n\" + \"-\"*56)\n",
        "        for s in self.students:\n",
        "            print(f\"{s.roll:6s} | {s.name:18s} | {s.marks[0]:2d} {s.marks[1]:2d} {s.marks[2]:2d} | {s.total():3d} {s.average():>4.1f}  {s.grade():>3s}\")\n",
        "\n",
        "# ---- File Outputs ----\n",
        "def save_checklist_csv(features: dict, path=\"showcase_checklist.csv\"):\n",
        "    with open(path,\"w\",newline=\"\",encoding=\"utf-8\") as f:\n",
        "        w=csv.writer(f); w.writerow([\"feature\",\"implemented\"])\n",
        "        for k,v in features.items(): w.writerow([k,\"yes\" if v else \"no\"])\n",
        "        w.writerow([\"TOTAL_SCORE\", f\"{sum(features.values())}/{len(features)}\"])\n",
        "    print(\"Wrote:\", path)\n",
        "\n",
        "def export_report_txt(student: Student, path=\"showcase_report.txt\"):\n",
        "    with open(path,\"w\",encoding=\"utf-8\") as f:\n",
        "        f.write(\"=== Student Report Card ===\\n\")\n",
        "        f.write(f\"Roll   : {student.roll}\\nName   : {student.name}\\n\")\n",
        "        f.write(f\"Marks  : {student.marks}\\nTotal  : {student.total()}\\n\")\n",
        "        f.write(f\"Average: {student.average()}\\nGrade  : {student.grade()}\\n\")\n",
        "    print(\"Wrote:\", path)\n",
        "\n",
        "# ---- Minimal Auto-Demo (so outputs are produced immediately) ----\n",
        "app = ShowcaseApp()\n",
        "app.add(\"01\",\"Ava Smith\",95,88,92)\n",
        "app.add(\"02\",\"Leo Johnson\",76,84,79)\n",
        "app.add(\"03\",\"Mia Davis\",88,91,90)\n",
        "app.update(\"02\", m1=82, m2=90)       # CRUD update\n",
        "app.delete(\"03\")                      # CRUD delete\n",
        "app.add(\"03\",\"Mia Davis\",88,91,90)    # re-add to keep 3 records\n",
        "app.table()\n",
        "\n",
        "hits = app.search(\"Ava\")\n",
        "print(\"\\nSearch 'Ava' ->\", [(s.roll,s.name) for s in hits])\n",
        "\n",
        "topper = app.topper()\n",
        "print(\"\\nTopper ->\", topper.roll, topper.name, topper.average(), topper.grade())\n",
        "export_report_txt(topper, \"showcase_report.txt\")\n",
        "\n",
        "features = {\n",
        "    \"model\": True, \"validation\": True, \"crud\": True, \"search\": True,\n",
        "    \"topper\": True, \"csv\": True, \"report\": True, \"styling\": False, \"reset\": True\n",
        "}\n",
        "save_checklist_csv(features, \"showcase_checklist.csv\")\n",
        "\n",
        "print(\"\\nSummary: Added/Updated/Deleted records, searched by name, computed topper, exported TXT report, and saved checklist CSV.\")\n"
      ]
    }
  ]
}