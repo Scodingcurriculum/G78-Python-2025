{
  "nbformat": 4,
  "nbformat_minor": 0,
  "metadata": {
    "colab": {
      "provenance": [],
      "include_colab_link": true
    },
    "kernelspec": {
      "name": "python3",
      "display_name": "Python 3"
    },
    "language_info": {
      "name": "python"
    }
  },
  "cells": [
    {
      "cell_type": "markdown",
      "metadata": {
        "id": "view-in-github",
        "colab_type": "text"
      },
      "source": [
        "<a href=\"https://colab.research.google.com/github/Scodingcurriculum/G78-Python-2025/blob/main/C78_L01.ipynb\" target=\"_parent\"><img src=\"https://colab.research.google.com/assets/colab-badge.svg\" alt=\"Open In Colab\"/></a>"
      ]
    },
    {
      "cell_type": "code",
      "execution_count": null,
      "metadata": {
        "id": "A5co52Z20BNu"
      },
      "outputs": [],
      "source": [
        "# Lesson 1: Space Mission Logbook (First Scripts in Colab)\n",
        "# Goal: Practice printing, escape characters, and simple formatting.\n",
        "\n",
        "# --- MAIN ACTIVITY ---\n",
        "# We simulate a simple mission log using prints and escape sequences.\n",
        "# Students learn: Google Colab cell execution, print(), \\n and \\t, and basic string concatenation.\n",
        "\n",
        "astronaut_name = \"Avery Johnson\"\n",
        "mission_day = 3\n",
        "quote = \"Reach for the stars!\"\n",
        "\n",
        "# Using \\n (newline) and \\t (tab) to format a mini \"logbook\" output\n",
        "print(\"=== SPACE MISSION LOGBOOK ===\")\n",
        "print(\"Astronaut:\\t\" + astronaut_name)\n",
        "print(\"Mission Day:\\t\" + str(mission_day))  # converting number to string for concatenation\n",
        "print(\"Message:\\t\" + quote)\n",
        "print(\"Status:\\t\\t\" + \"All systems nominal.\\n\")\n",
        "\n",
        "# Using f-strings for neat formatting\n",
        "print(f\"Summary:\\n\\tName: {astronaut_name}\\n\\tDay: {mission_day}\\n\\tQuote: {quote}\")\n",
        "\n",
        "# === ADDITIONAL ACTIVITY START ===\n",
        "# Task: Add a decorative banner using string multiplication and center the message.\n",
        "# Students learn: string multiplication and simple alignment tricks.\n",
        "\n",
        "print(\"\\n\" + \"*\" * 40)     # 40 stars\n",
        "center_message = \"*** Mission Log Begins ***\"\n",
        "# Basic centering by padding with spaces (for this example, fixed width)\n",
        "left_padding = (40 - len(center_message)) // 2\n",
        "print(\" \" * left_padding + center_message)\n",
        "print(\"*\" * 40)\n"
      ]
    }
  ]
}