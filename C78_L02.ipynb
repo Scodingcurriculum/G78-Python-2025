{
  "nbformat": 4,
  "nbformat_minor": 0,
  "metadata": {
    "colab": {
      "provenance": [],
      "include_colab_link": true
    },
    "kernelspec": {
      "name": "python3",
      "display_name": "Python 3"
    },
    "language_info": {
      "name": "python"
    }
  },
  "cells": [
    {
      "cell_type": "markdown",
      "metadata": {
        "id": "view-in-github",
        "colab_type": "text"
      },
      "source": [
        "<a href=\"https://colab.research.google.com/github/Scodingcurriculum/G78-Python-2025/blob/main/C78_L02.ipynb\" target=\"_parent\"><img src=\"https://colab.research.google.com/assets/colab-badge.svg\" alt=\"Open In Colab\"/></a>"
      ]
    },
    {
      "cell_type": "code",
      "execution_count": null,
      "metadata": {
        "id": "teqM5vwz0TUU"
      },
      "outputs": [],
      "source": [
        "# Lesson 2: Eco-Friendly Transport Tracker (Identifiers, Variables, Data Types)\n",
        "# Goal: Compare travel options to estimate CO2 saved. Practice identifiers and variables.\n",
        "\n",
        "# --- MAIN ACTIVITY ---\n",
        "# Assumptions (per-day school commute)\n",
        "# Distances in miles, costs in dollars, CO2 in grams per mile (example values)\n",
        "# NOTE: Values are illustrative for learning purposes.\n",
        "\n",
        "# Valid identifiers (avoid reserved words like 'for', 'while', etc.)\n",
        "distance_to_school_miles = 4.2       # one-way distance\n",
        "days_per_week = 5\n",
        "\n",
        "# per-mile emission approximations (illustrative)\n",
        "co2_car_g_per_mile = 404     # gasoline car ~404 g/mi (example)\n",
        "co2_bike_g_per_mile = 0      # biking emits 0 while riding (ignoring manufacturing)\n",
        "co2_bus_g_per_mile_share = 90  # per-passenger share estimate\n",
        "\n",
        "# Compute weekly commute (round trip each day)\n",
        "weekly_miles = distance_to_school_miles * 2 * days_per_week\n",
        "\n",
        "# CO2 emitted for different modes in a week\n",
        "weekly_car_co2 = weekly_miles * co2_car_g_per_mile\n",
        "weekly_bike_co2 = weekly_miles * co2_bike_g_per_mile\n",
        "weekly_bus_co2  = weekly_miles * co2_bus_g_per_mile_share\n",
        "\n",
        "print(\"=== ECO-FRIENDLY TRANSPORT TRACKER ===\")\n",
        "print(f\"Weekly miles (round trip x {days_per_week} days): {weekly_miles:.1f} mi\")\n",
        "print(f\"Car CO2:  {weekly_car_co2:.0f} g/week\")\n",
        "print(f\"Bike CO2: {weekly_bike_co2:.0f} g/week\")\n",
        "print(f\"Bus CO2:  {weekly_bus_co2:.0f} g/week\")\n",
        "\n",
        "# Choose biking vs carpooling comparison (simple difference)\n",
        "co2_saved_biking_vs_car = weekly_car_co2 - weekly_bike_co2\n",
        "print(f\"\\nCO2 saved by biking instead of car: {co2_saved_biking_vs_car:.0f} g/week\")\n",
        "\n",
        "# === ADDITIONAL ACTIVITY START ===\n",
        "# Compute TOTAL CO2 saved for an entire week if student bikes 3 days and carpools 2 days.\n",
        "# Assume carpool CO2 is car CO2 divided by average passengers (say 3).\n",
        "\n",
        "average_carpool_passengers = 3\n",
        "co2_carpool_g_per_mile = co2_car_g_per_mile / average_carpool_passengers\n",
        "\n",
        "# Distance breakdown\n",
        "miles_bike = distance_to_school_miles * 2 * 3  # 3 days round-trip\n",
        "miles_carpool = distance_to_school_miles * 2 * 2  # 2 days round-trip\n",
        "\n",
        "# Emissions\n",
        "co2_bike_part = miles_bike * co2_bike_g_per_mile\n",
        "co2_carpool_part = miles_carpool * co2_carpool_g_per_mile\n",
        "\n",
        "weekly_mixed_co2 = co2_bike_part + co2_carpool_part\n",
        "co2_saved_vs_car_entire_week = weekly_car_co2 - weekly_mixed_co2\n",
        "\n",
        "print(\"\\n=== Weekly Mixed Strategy (3 days bike, 2 days carpool) ===\")\n",
        "print(f\"Total CO2 (mixed): {weekly_mixed_co2:.0f} g/week\")\n",
        "print(f\"CO2 saved vs car-only week: {co2_saved_vs_car_entire_week:.0f} g/week\")\n"
      ]
    }
  ]
}