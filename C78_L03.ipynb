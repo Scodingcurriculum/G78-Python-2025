{
  "nbformat": 4,
  "nbformat_minor": 0,
  "metadata": {
    "colab": {
      "provenance": [],
      "include_colab_link": true
    },
    "kernelspec": {
      "name": "python3",
      "display_name": "Python 3"
    },
    "language_info": {
      "name": "python"
    }
  },
  "cells": [
    {
      "cell_type": "markdown",
      "metadata": {
        "id": "view-in-github",
        "colab_type": "text"
      },
      "source": [
        "<a href=\"https://colab.research.google.com/github/Scodingcurriculum/G78-Python-2025/blob/main/C78_L03.ipynb\" target=\"_parent\"><img src=\"https://colab.research.google.com/assets/colab-badge.svg\" alt=\"Open In Colab\"/></a>"
      ]
    },
    {
      "cell_type": "code",
      "execution_count": null,
      "metadata": {
        "id": "ss0eVLxj0czp"
      },
      "outputs": [],
      "source": [
        "# Lesson 3: American Presidents Fact File (Indentation, Comments, Lists)\n",
        "# Goal: Use lists, indexing, numbering; practice indentation & comments for clarity.\n",
        "\n",
        "# --- MAIN ACTIVITY ---\n",
        "# A list of the first five U.S. Presidents (historical reference activity)\n",
        "presidents = [\"George Washington\", \"John Adams\", \"Thomas Jefferson\", \"James Madison\", \"James Monroe\"]\n",
        "\n",
        "print(\"=== AMERICAN PRESIDENTS FACT FILE ===\")\n",
        "# Numbered listing (start index at 1 for display)\n",
        "for i in range(len(presidents)):\n",
        "    # Proper indentation is essential for the loop body\n",
        "    print(f\"{i+1}. {presidents[i]}\")\n",
        "\n",
        "# Demonstrate indexing\n",
        "first_president = presidents[0]\n",
        "last_president = presidents[-1]\n",
        "print(f\"\\nFirst President: {first_president}\")\n",
        "print(f\"Last in this list: {last_president}\")\n",
        "\n",
        "# === ADDITIONAL ACTIVITY START ===\n",
        "# Task: Add two more presidents and show updated count and the new last entry.\n",
        "# Students learn: list.append(), len(), and dynamic updates.\n",
        "\n",
        "presidents.append(\"John Quincy Adams\")\n",
        "presidents.append(\"Andrew Jackson\")\n",
        "\n",
        "print(\"\\n=== UPDATED LIST (ADDED TWO) ===\")\n",
        "for idx, name in enumerate(presidents, start=1):\n",
        "    print(f\"{idx}. {name}\")\n",
        "\n",
        "print(f\"\\nTotal entries now: {len(presidents)}\")\n",
        "print(f\"New last entry: {presidents[-1]}\")\n"
      ]
    }
  ]
}