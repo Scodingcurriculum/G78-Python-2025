{
  "nbformat": 4,
  "nbformat_minor": 0,
  "metadata": {
    "colab": {
      "provenance": [],
      "include_colab_link": true
    },
    "kernelspec": {
      "name": "python3",
      "display_name": "Python 3"
    },
    "language_info": {
      "name": "python"
    }
  },
  "cells": [
    {
      "cell_type": "markdown",
      "metadata": {
        "id": "view-in-github",
        "colab_type": "text"
      },
      "source": [
        "<a href=\"https://colab.research.google.com/github/Scodingcurriculum/G78-Python-2025/blob/main/C78_L06.ipynb\" target=\"_parent\"><img src=\"https://colab.research.google.com/assets/colab-badge.svg\" alt=\"Open In Colab\"/></a>"
      ]
    },
    {
      "cell_type": "code",
      "execution_count": null,
      "metadata": {
        "id": "vHWTHTZm1Zjt"
      },
      "outputs": [],
      "source": [
        "# ==============================\n",
        "# Lesson 06: Digital Currency Converter\n",
        "# Topics: arithmetic operators, dictionaries, input(), float casting,\n",
        "#         simple receipt-style printing, basic loop for multiple conversions\n",
        "# Project Theme: Social Studies / Economics (Money)\n",
        "# Goal (Main Activity): Convert a USD amount to multiple currencies using fixed example rates.\n",
        "# Extension (Additional Activity): Update/add currency rates and recompute; loop for repeated conversions.\n",
        "# ==============================\n",
        "\n",
        "print(\"=== DIGITAL CURRENCY CONVERTER ===\")\n",
        "\n",
        "# Static example rates (not real-time; for classroom only)\n",
        "rates = {\n",
        "    \"EUR\": 0.92,\n",
        "    \"INR\": 83.00,\n",
        "    \"JPY\": 147.50,\n",
        "    \"GBP\": 0.79,\n",
        "    \"CAD\": 1.36,\n",
        "}\n",
        "\n",
        "def read_float(prompt):\n",
        "    while True:\n",
        "        raw = input(prompt).strip()\n",
        "        try:\n",
        "            return float(raw)\n",
        "        except:\n",
        "            print(\"Please enter a valid number.\")\n",
        "\n",
        "def convert_all(amount_usd, rate_map):\n",
        "    \"\"\"\n",
        "    Convert a USD amount to all currencies in rate_map.\n",
        "    Print a simple \"receipt\".\n",
        "    \"\"\"\n",
        "    print(\"\\n--- CONVERSION RECEIPT ---\")\n",
        "    print(f\"USD Amount: {amount_usd:.2f}\")\n",
        "    print(\"-\" * 28)\n",
        "    for code, rate in rate_map.items():\n",
        "        converted = amount_usd * rate\n",
        "        print(f\"{code:>4}: {converted:10.2f}\")\n",
        "    print(\"-\" * 28)\n",
        "\n",
        "# ---------- MAIN ACTIVITY ----------\n",
        "usd = read_float(\"Enter USD amount to convert: \")\n",
        "convert_all(usd, rates)\n",
        "\n",
        "# A quick second conversion to keep students practicing\n",
        "another = input(\"\\nConvert another amount? (y/n): \").strip().lower()\n",
        "if another == \"y\":\n",
        "    usd2 = read_float(\"Enter another USD amount: \")\n",
        "    convert_all(usd2, rates)\n",
        "\n",
        "# === ADDITIONAL ACTIVITY START ===\n",
        "# Update or add a currency rate, then reconvert.\n",
        "print(\"\\n=== RATE UPDATE / ADD CURRENCY ===\")\n",
        "action = input(\"Choose (u)pdate existing, (a)dd new, or press Enter to skip: \").strip().lower()\n",
        "\n",
        "if action == \"u\":\n",
        "    code = input(\"Currency code to update (e.g., EUR): \").strip().upper()\n",
        "    if code in rates:\n",
        "        new_rate = read_float(f\"Enter new rate for {code} (units per 1 USD): \")\n",
        "        rates[code] = new_rate\n",
        "        print(f\"Updated {code} to {new_rate}\")\n",
        "    else:\n",
        "        print(\"Code not found. No change.\")\n",
        "elif action == \"a\":\n",
        "    code = input(\"New currency code (e.g., AUD): \").strip().upper()\n",
        "    new_rate = read_float(f\"Enter rate for {code} (units per 1 USD): \")\n",
        "    rates[code] = new_rate\n",
        "    print(f\"Added {code} at rate {new_rate}\")\n",
        "else:\n",
        "    print(\"Skipping rate changes.\")\n",
        "\n",
        "# Recompute after modifications\n",
        "usd3 = read_float(\"\\nEnter a USD amount to reconvert with current rates: \")\n",
        "convert_all(usd3, rates)\n",
        "\n",
        "# Optional practice loop (kept simple)\n",
        "print(\"\\nYou can do a few more quick conversions.\")\n",
        "for i in range(3):\n",
        "    amt = read_float(f\"Try amount #{i+1}: \")\n",
        "    convert_all(amt, rates)\n"
      ]
    }
  ]
}