{
  "nbformat": 4,
  "nbformat_minor": 0,
  "metadata": {
    "colab": {
      "provenance": [],
      "include_colab_link": true
    },
    "kernelspec": {
      "name": "python3",
      "display_name": "Python 3"
    },
    "language_info": {
      "name": "python"
    }
  },
  "cells": [
    {
      "cell_type": "markdown",
      "metadata": {
        "id": "view-in-github",
        "colab_type": "text"
      },
      "source": [
        "<a href=\"https://colab.research.google.com/github/Scodingcurriculum/G78-Python-2025/blob/main/C78_L07.ipynb\" target=\"_parent\"><img src=\"https://colab.research.google.com/assets/colab-badge.svg\" alt=\"Open In Colab\"/></a>"
      ]
    },
    {
      "cell_type": "code",
      "execution_count": null,
      "metadata": {
        "id": "dJ_p10xk1mAV"
      },
      "outputs": [],
      "source": [
        "# ==============================\n",
        "# Lesson 07: Weather Forecast Simulator\n",
        "# Topics: if/elif/else, match-case (Python 3.10+), simple functions\n",
        "# Project Theme: Science (Weather)\n",
        "# Goal (Main Activity): Generate a basic forecast using temperature and rain chance.\n",
        "# Extension (Additional Activity): Suggest clothing/activity; include simple wind speed check.\n",
        "# ==============================\n",
        "\n",
        "print(\"=== WEATHER FORECAST SIMULATOR ===\")\n",
        "\n",
        "def read_float(prompt):\n",
        "    while True:\n",
        "        raw = input(prompt).strip()\n",
        "        try:\n",
        "            return float(raw)\n",
        "        except:\n",
        "            print(\"Please enter a valid number.\")\n",
        "\n",
        "def classify_temp_band(temp_f):\n",
        "    \"\"\"Return a simple label based on Fahrenheit temperature.\"\"\"\n",
        "    if temp_f < 50:\n",
        "        return \"cold\"\n",
        "    elif temp_f < 70:\n",
        "        return \"mild\"\n",
        "    elif temp_f < 90:\n",
        "        return \"warm\"\n",
        "    else:\n",
        "        return \"hot\"\n",
        "\n",
        "# ---------- MAIN ACTIVITY ----------\n",
        "temp_f = read_float(\"Temperature (°F): \")\n",
        "rain_prob = read_float(\"Chance of rain (0-100): \")\n",
        "\n",
        "# Simple rule-based forecast\n",
        "if temp_f >= 90 and rain_prob < 30:\n",
        "    forecast = \"Hot and Sunny\"\n",
        "elif 70 <= temp_f < 90 and rain_prob < 50:\n",
        "    forecast = \"Warm and Partly Cloudy\"\n",
        "elif 50 <= temp_f < 70 and rain_prob < 60:\n",
        "    forecast = \"Mild and Cloudy\"\n",
        "elif rain_prob >= 60:\n",
        "    forecast = \"Likely Rain\"\n",
        "else:\n",
        "    forecast = \"Cool Weather\"\n",
        "\n",
        "print(\"\\n--- FORECAST ---\")\n",
        "print(\"Summary:\", forecast)\n",
        "\n",
        "band = classify_temp_band(temp_f)\n",
        "print(\"Temperature band:\", band)\n",
        "\n",
        "# match-case for tips (kept very simple)\n",
        "match band:\n",
        "    case \"cold\":\n",
        "        tip = \"Wear a warm coat.\"\n",
        "    case \"mild\":\n",
        "        tip = \"A light jacket should be fine.\"\n",
        "    case \"warm\":\n",
        "        tip = \"Short sleeves recommended.\"\n",
        "    case \"hot\":\n",
        "        tip = \"Hydrate and stay out of midday sun.\"\n",
        "    case _:\n",
        "        tip = \"Check the advisory.\"\n",
        "print(\"Tip:\", tip)\n",
        "\n",
        "# === ADDITIONAL ACTIVITY START ===\n",
        "# Suggest an activity based on combined conditions; add wind speed for a safety check.\n",
        "\n",
        "wind_mph = read_float(\"\\nWind speed (mph): \")\n",
        "\n",
        "if rain_prob >= 60:\n",
        "    suggestion = \"Carry an umbrella; an indoor activity is safer.\"\n",
        "elif band == \"hot\":\n",
        "    suggestion = \"Choose indoor sports or reading.\"\n",
        "elif band == \"warm\":\n",
        "    suggestion = \"Great day for a park walk or cycling.\"\n",
        "elif band == \"mild\":\n",
        "    suggestion = \"Perfect for outdoor study or a short hike.\"\n",
        "else:\n",
        "    suggestion = \"Dress warmly; a museum visit would be good.\"\n",
        "print(\"Suggested plan:\", suggestion)\n",
        "\n",
        "# Simple wind safety note\n",
        "if wind_mph >= 25:\n",
        "    print(\"Safety note: Strong winds expected. Avoid tall trees and loose objects.\")\n",
        "else:\n",
        "    print(\"Winds are manageable. Standard outdoor precautions apply.\")\n"
      ]
    }
  ]
}