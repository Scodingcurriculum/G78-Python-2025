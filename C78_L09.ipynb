{
  "nbformat": 4,
  "nbformat_minor": 0,
  "metadata": {
    "colab": {
      "provenance": [],
      "include_colab_link": true
    },
    "kernelspec": {
      "name": "python3",
      "display_name": "Python 3"
    },
    "language_info": {
      "name": "python"
    }
  },
  "cells": [
    {
      "cell_type": "markdown",
      "metadata": {
        "id": "view-in-github",
        "colab_type": "text"
      },
      "source": [
        "<a href=\"https://colab.research.google.com/github/Scodingcurriculum/G78-Python-2025/blob/main/C78_L09.ipynb\" target=\"_parent\"><img src=\"https://colab.research.google.com/assets/colab-badge.svg\" alt=\"Open In Colab\"/></a>"
      ]
    },
    {
      "cell_type": "code",
      "execution_count": null,
      "metadata": {
        "id": "9UfZRyQx2Tip"
      },
      "outputs": [],
      "source": [
        "# ==============================\n",
        "# Lesson 09: Pyramid of Ancient Egypt\n",
        "# Topics: nested loops, spaces vs symbols, pattern logic\n",
        "# Project Theme: History / Architecture\n",
        "# Goal (Main Activity): Print a solid pyramid using nested loops.\n",
        "# Extension: Hollow pyramid, inverted pyramid, and an optional diamond.\n",
        "# ==============================\n",
        "\n",
        "print(\"=== PYRAMID PATTERN BUILDER ===\")\n",
        "\n",
        "# --------- Helpers ---------\n",
        "def read_height():\n",
        "    \"\"\"Read a sensible height (5..20).\"\"\"\n",
        "    while True:\n",
        "        raw = input(\"Enter pyramid height (5..20): \").strip()\n",
        "        if raw.isdigit():\n",
        "            h = int(raw)\n",
        "            if 5 <= h <= 20:\n",
        "                return h\n",
        "        print(\"Please enter a number between 5 and 20.\")\n",
        "\n",
        "# --------- MAIN ACTIVITY ---------\n",
        "H = read_height()\n",
        "\n",
        "# 1) Solid Pyramid\n",
        "print(\"\\nSOLID PYRAMID:\")\n",
        "for row in range(1, H + 1):\n",
        "    spaces = H - row                  # left padding\n",
        "    stars = 2 * row - 1               # width of the row\n",
        "    print(\" \" * spaces + \"*\" * stars)\n",
        "\n",
        "# 2) Show a ruler line to help students visualize width\n",
        "print(\"\\n(Width ruler)\")\n",
        "print(\"0123456789\" * ((2 * H) // 10 + 1))  # repeatable ruler line\n",
        "\n",
        "# 3) Explain row-by-row width (practice print with loops)\n",
        "print(\"\\nRow widths (2*row-1):\")\n",
        "for r in range(1, H + 1):\n",
        "    print(f\"Row {r:2d}: width={2*r-1}\")\n",
        "\n",
        "# === ADDITIONAL ACTIVITY START ===\n",
        "# A) Hollow Pyramid (outline only)\n",
        "print(\"\\nHOLLOW PYRAMID:\")\n",
        "for row in range(1, H + 1):\n",
        "    spaces = H - row\n",
        "    if row == 1:\n",
        "        print(\" \" * spaces + \"*\")\n",
        "    elif row == H:\n",
        "        print(\" \" * spaces + \"*\" * (2 * row - 1))\n",
        "    else:\n",
        "        middle = 2 * row - 3\n",
        "        print(\" \" * spaces + \"*\" + \" \" * middle + \"*\")\n",
        "\n",
        "# B) Inverted Solid Pyramid\n",
        "print(\"\\nINVERTED SOLID PYRAMID:\")\n",
        "for row in range(H, 0, -1):\n",
        "    spaces = H - row\n",
        "    stars = 2 * row - 1\n",
        "    print(\" \" * spaces + \"*\" * stars)\n",
        "\n",
        "# C) Optional: Diamond (solid) using two pyramids\n",
        "print(\"\\nDIAMOND (SOLID):\")\n",
        "# upper half (including middle)\n",
        "for row in range(1, H + 1):\n",
        "    spaces = H - row\n",
        "    stars = 2 * row - 1\n",
        "    print(\" \" * spaces + \"*\" * stars)\n",
        "# lower half (excluding middle)\n",
        "for row in range(H - 1, 0, -1):\n",
        "    spaces = H - row\n",
        "    stars = 2 * row - 1\n",
        "    print(\" \" * spaces + \"*\" * stars)\n",
        "\n",
        "# D) Challenge: Checkerboard 8x8 (simple nested loops with two symbols)\n",
        "print(\"\\nCHECKERBOARD 8x8 (# and .):\")\n",
        "for r in range(8):\n",
        "    line = \"\"\n",
        "    for c in range(8):\n",
        "        if (r + c) % 2 == 0:\n",
        "            line += \"#\"\n",
        "        else:\n",
        "            line += \".\"\n",
        "    print(line)\n"
      ]
    }
  ]
}