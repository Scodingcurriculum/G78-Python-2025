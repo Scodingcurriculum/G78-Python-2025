{
  "nbformat": 4,
  "nbformat_minor": 0,
  "metadata": {
    "colab": {
      "provenance": [],
      "include_colab_link": true
    },
    "kernelspec": {
      "name": "python3",
      "display_name": "Python 3"
    },
    "language_info": {
      "name": "python"
    }
  },
  "cells": [
    {
      "cell_type": "markdown",
      "metadata": {
        "id": "view-in-github",
        "colab_type": "text"
      },
      "source": [
        "<a href=\"https://colab.research.google.com/github/Scodingcurriculum/G78-Python-2025/blob/main/C78_L10.ipynb\" target=\"_parent\"><img src=\"https://colab.research.google.com/assets/colab-badge.svg\" alt=\"Open In Colab\"/></a>"
      ]
    },
    {
      "cell_type": "code",
      "execution_count": null,
      "metadata": {
        "id": "u9T8VUMs2ioZ"
      },
      "outputs": [],
      "source": [
        "# ==============================\n",
        "# Lesson 10: Science Quiz Buzzer\n",
        "# Topics: while True loop, for loop, break, continue, pass, simple scoring\n",
        "# Project Theme: Science Knowledge Check\n",
        "# Goal (Main Activity): Buzzer-style round that stops on first correct answer.\n",
        "# Extension: Full round with scoring, skip token, limited attempts, and summary.\n",
        "# ==============================\n",
        "\n",
        "print(\"=== SCIENCE QUIZ BUZZER ===\")\n",
        "\n",
        "# -------------- Question Bank --------------\n",
        "questions = [\n",
        "    (\"What gas do plants absorb for photosynthesis? (CO2/O2/N2): \", \"CO2\"),\n",
        "    (\"What is the boiling point of water at sea level in °C? \", \"100\"),\n",
        "    (\"The Earth revolves around the Sun. (yes/no): \", \"yes\"),\n",
        "    (\"Which vitamin is produced when skin is exposed to sunlight? (A/B/C/D): \", \"D\"),\n",
        "    (\"What force pulls objects toward the Earth? \", \"gravity\"),\n",
        "]\n",
        "\n",
        "# -------------- MAIN ACTIVITY --------------\n",
        "print(\"\\nBUZZER ROUND: The round stops when you answer one question correctly.\")\n",
        "score = 0\n",
        "for prompt, answer in questions:\n",
        "    user = input(prompt).strip()\n",
        "    if user.lower() == answer.lower():\n",
        "        print(\"Correct! Buzzer stops here.\")\n",
        "        score += 1\n",
        "        break                 # stop at first correct answer\n",
        "    else:\n",
        "        print(\"Incorrect. Next question...\")\n",
        "\n",
        "print(f\"Score so far: {score}\")\n",
        "\n",
        "# === ADDITIONAL ACTIVITY START ===\n",
        "# A) Full Round: ask all questions; continue on wrong answers; allow skip with empty input (pass)\n",
        "print(\"\\nFULL ROUND WITH SCORING (empty input = skip):\")\n",
        "score = 0\n",
        "attempts = 0\n",
        "for prompt, answer in questions:\n",
        "    user = input(prompt).strip()\n",
        "    attempts += 1\n",
        "\n",
        "    if user == \"\":\n",
        "        # 'pass' is a placeholder statement; here it's not required,\n",
        "        # but we show it to keep syntax and logic simple for a future feature.\n",
        "        pass\n",
        "        print(\"Skipped.\")\n",
        "        continue\n",
        "\n",
        "    if user.lower() != answer.lower():\n",
        "        print(\"Wrong, moving on (continue).\")\n",
        "        continue\n",
        "\n",
        "    print(\"Correct!\")\n",
        "    score += 1\n",
        "\n",
        "print(f\"\\nYour full-round score: {score} / {len(questions)}\")\n",
        "print(f\"Total attempts (including skips): {attempts}\")\n",
        "\n",
        "# B) Limited Attempts Practice (while loop)\n",
        "print(\"\\nPRACTICE: You have 3 attempts to answer a single question.\")\n",
        "secret_q, secret_ans = (\"Chemical symbol for water? \", \"H2O\")\n",
        "tries = 0\n",
        "while tries < 3:\n",
        "    guess = input(secret_q).strip()\n",
        "    if guess.lower() == secret_ans.lower():\n",
        "        print(\"Correct! Ending practice.\")\n",
        "        break\n",
        "    else:\n",
        "        print(\"Not quite.\")\n",
        "    tries += 1\n",
        "if tries == 3:\n",
        "    print(\"Out of attempts. Practice finished.\")\n"
      ]
    }
  ]
}