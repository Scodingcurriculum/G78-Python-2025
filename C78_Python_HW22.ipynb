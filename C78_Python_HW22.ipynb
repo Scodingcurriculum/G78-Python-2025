{
  "nbformat": 4,
  "nbformat_minor": 0,
  "metadata": {
    "colab": {
      "provenance": [],
      "include_colab_link": true
    },
    "kernelspec": {
      "name": "python3",
      "display_name": "Python 3"
    },
    "language_info": {
      "name": "python"
    }
  },
  "cells": [
    {
      "cell_type": "markdown",
      "metadata": {
        "id": "view-in-github",
        "colab_type": "text"
      },
      "source": [
        "<a href=\"https://colab.research.google.com/github/Scodingcurriculum/G78-Python-2025/blob/main/C78_Python_HW22.ipynb\" target=\"_parent\"><img src=\"https://colab.research.google.com/assets/colab-badge.svg\" alt=\"Open In Colab\"/></a>"
      ]
    },
    {
      "cell_type": "code",
      "execution_count": null,
      "metadata": {
        "id": "P3Nr_gtzMntK"
      },
      "outputs": [],
      "source": [
        "# Lesson 22 Homework: Tkinter Styling Demo\n",
        "# ----------------------------------------\n",
        "# Concepts: Tkinter styling, frames, colored labels, fonts, layout polish\n",
        "# This is a simple style demo you can copy into your app.\n",
        "\n",
        "import tkinter as tk\n",
        "\n",
        "root = tk.Tk()\n",
        "root.title(\"Science Fair App - Styled UI\")\n",
        "root.geometry(\"540x340\")\n",
        "root.configure(bg=\"#f5f7fb\")  # light background\n",
        "\n",
        "# Header\n",
        "header = tk.Label(\n",
        "    root,\n",
        "    text=\"Science Fair Project - Summary\",\n",
        "    font=(\"Segoe UI\", 18, \"bold\"),\n",
        "    bg=\"#f5f7fb\",\n",
        "    fg=\"#1f3b4d\"\n",
        ")\n",
        "header.pack(pady=(20, 10))\n",
        "\n",
        "# Badge-like labels\n",
        "badge_frame = tk.Frame(root, bg=\"#f5f7fb\")\n",
        "badge_frame.pack(pady=10)\n",
        "\n",
        "def make_badge(parent, text, bg_color):\n",
        "    return tk.Label(\n",
        "        parent, text=text, font=(\"Segoe UI\", 11, \"bold\"),\n",
        "        bg=bg_color, fg=\"white\", padx=12, pady=6\n",
        "    )\n",
        "\n",
        "badge1 = make_badge(badge_frame, \"Total Experiments: 5\", \"#4caf50\")  # green\n",
        "badge2 = make_badge(badge_frame, \"Hypotheses: 2\", \"#2196f3\")         # blue\n",
        "badge3 = make_badge(badge_frame, \"Status: ON TRACK\", \"#ff9800\")      # orange\n",
        "\n",
        "badge1.grid(row=0, column=0, padx=8, pady=6)\n",
        "badge2.grid(row=0, column=1, padx=8, pady=6)\n",
        "badge3.grid(row=0, column=2, padx=8, pady=6)\n",
        "\n",
        "# Content area\n",
        "content = tk.Label(\n",
        "    root,\n",
        "    text=(\n",
        "        \"Notes:\\n\"\n",
        "        \"- Use clear graphs and labels.\\n\"\n",
        "        \"- Keep variable names short and meaningful.\\n\"\n",
        "        \"- Ensure consistent colors for similar data.\\n\"\n",
        "        \"- Add a simple legend to charts.\"\n",
        "    ),\n",
        "    justify=\"left\",\n",
        "    font=(\"Segoe UI\", 11),\n",
        "    bg=\"#ffffff\",\n",
        "    fg=\"#333333\",\n",
        "    bd=1,\n",
        "    relief=\"solid\",\n",
        "    padx=12,\n",
        "    pady=12\n",
        ")\n",
        "content.pack(padx=20, pady=10, fill=\"x\")\n",
        "\n",
        "# Footer\n",
        "footer = tk.Label(\n",
        "    root,\n",
        "    text=\"Powered by Python  |  UI spruced up with colors and spacing\",\n",
        "    font=(\"Segoe UI\", 9),\n",
        "    bg=\"#f5f7fb\",\n",
        "    fg=\"#666666\"\n",
        ")\n",
        "footer.pack(side=\"bottom\", pady=12)\n",
        "\n",
        "root.mainloop()\n"
      ]
    }
  ]
}